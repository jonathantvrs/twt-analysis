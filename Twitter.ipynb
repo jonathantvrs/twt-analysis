{
  "nbformat": 4,
  "nbformat_minor": 0,
  "metadata": {
    "kernelspec": {
      "display_name": "Python 3",
      "language": "python",
      "name": "python3"
    },
    "language_info": {
      "codemirror_mode": {
        "name": "ipython",
        "version": 3
      },
      "file_extension": ".py",
      "mimetype": "text/x-python",
      "name": "python",
      "nbconvert_exporter": "python",
      "pygments_lexer": "ipython3",
      "version": "3.6.5"
    },
    "colab": {
      "name": "Twitter.ipynb",
      "provenance": []
    }
  },
  "cells": [
    {
      "cell_type": "markdown",
      "metadata": {
        "id": "k-9oxa31vS19"
      },
      "source": [
        "# 1.0 Introduction\n"
      ]
    },
    {
      "cell_type": "markdown",
      "metadata": {
        "id": "XCgctKyCKJAd"
      },
      "source": [
        "\n",
        "In this lesson, we use Twitter data to create and explore directed networks of social interactions. For this lesson, we'll be using a developer workflow where we assume you have access to an app's API key and secret (see the slides).\n",
        "\n",
        "\n",
        "Contents:\n",
        "\n",
        "1. Introduction\n",
        "2. Authenticating with Twitter's API\n",
        "2. Twitter API basics\n",
        "3. Using Twitter's search API to get tweets of interest\n",
        "4. Creating social network graphs\n",
        "5. Twitter retweet network\n",
        "6. Twitter mention network\n",
        "\n",
        "***Copyright:*** *Parts of the contents of this Colab Notebook, unless otherwise indicated, are Copyright 2020 Filippo Menczer, Santo Fortunato and Clayton A. Davis, [A First Course in Network Science](https://github.com/CambridgeUniversityPress/FirstCourseNetworkScience). All rights reserved.* \n",
        "\n",
        "***References***: getting started with the Twitter API v2 for academic research [here](https://github.com/twitterdev/getting-started-with-the-twitter-api-v2-for-academic-research). "
      ]
    },
    {
      "cell_type": "markdown",
      "metadata": {
        "id": "4Quw1KPPKY4Q"
      },
      "source": [
        "\n",
        "# 2.0 Authenticating with Twitter's API\n"
      ]
    },
    {
      "cell_type": "markdown",
      "metadata": {
        "id": "Rwde_oFGKa6t"
      },
      "source": [
        "\n",
        "Twitter uses OAuth in order to allow third-party apps to access data on your behalf without requiring your Twitter login credentials -- note that none of the code in this notebook asks for your Twitter screen name or password.\n",
        "\n",
        "The OAuth \"dance\" can be intimidating when you first use it, but it provides a far more secure way for software to make requests on your behalf than providing your username and password.\n",
        "\n",
        "We'll make use of the\n",
        "[Twython](https://twython.readthedocs.io/en/latest/usage/starting_out.html#authentication)\n",
        "package to help us with authentication and querying Twitter's APIs."
      ]
    },
    {
      "cell_type": "code",
      "metadata": {
        "id": "nbJfX--XviL-"
      },
      "source": [
        "!pip install Twython"
      ],
      "execution_count": null,
      "outputs": []
    },
    {
      "cell_type": "code",
      "metadata": {
        "id": "CthaJaXTvS1_"
      },
      "source": [
        "from twython import Twython, TwythonError"
      ],
      "execution_count": null,
      "outputs": []
    },
    {
      "cell_type": "markdown",
      "metadata": {
        "id": "S6QBuOCNvS1_"
      },
      "source": [
        "\n",
        "## 2.1 Enter app info and get auth URL\n"
      ]
    },
    {
      "cell_type": "markdown",
      "metadata": {
        "id": "CE7PcDtBX6Hz"
      },
      "source": [
        "\n",
        "In order to authenticate with Twitter, we'll provide the app details and  ask for a one-time authorization URL to authenticate your user with this app.\n",
        "\n",
        "Copy and paste the API key and secret from your Twitter app into a file named <font color=\"red\">keys.txt</font>. The first line is the API_KEY and the second line of the file is API_SECRET_KEY. For example, a template for the <font color=\"red\">keys.txt</font>: \n",
        "\n",
        "```python\n",
        "df6cf09894907b92f3ea749ef\n",
        "d19c40cbb184f72055c806f107b5158d023a43eb7d8921a0d0\n",
        "```"
      ]
    },
    {
      "cell_type": "code",
      "metadata": {
        "id": "lmkWjh8PU_yW"
      },
      "source": [
        "# open the keys file\n",
        "my_file = open(\"keys.txt\", \"r\")\n",
        "\n",
        "# read the raw data\n",
        "content = my_file.read()\n",
        "\n",
        "# split all lines by  newline character\n",
        "API_KEY, API_SECRET_KEY = content.split(\"\\n\")\n",
        "\n",
        "# close the file\n",
        "my_file.close()"
      ],
      "execution_count": null,
      "outputs": []
    },
    {
      "cell_type": "markdown",
      "metadata": {
        "id": "Ir_nhr6HV3Es"
      },
      "source": [
        "Executing the cell should then print out a clickable URL. This link is unique and will work **exactly** once. <font color=\"red\"> Visit this URL, log into Twitter, and then copy the verifier pin that is given to you so as to paste it in the next step</font>."
      ]
    },
    {
      "cell_type": "code",
      "metadata": {
        "id": "2jJCE5A1vS2A"
      },
      "source": [
        "twitter = Twython(API_KEY, API_SECRET_KEY)\n",
        "\n",
        "authentication_tokens = twitter.get_authentication_tokens()\n",
        "print(authentication_tokens['auth_url'])"
      ],
      "execution_count": null,
      "outputs": []
    },
    {
      "cell_type": "markdown",
      "metadata": {
        "id": "LAPHhovGvS2B"
      },
      "source": [
        "## 2.2 Authorize app using verifier PIN\n"
      ]
    },
    {
      "cell_type": "markdown",
      "metadata": {
        "id": "hGpriOZJX4Us"
      },
      "source": [
        "\n",
        "That verifier PIN goes into the next cell. This will be different every time you run these steps. The `authentication_tokens` include temporary tokens that go with this verifier PIN; by submitting these together, we show Twitter that we are who we say we are."
      ]
    },
    {
      "cell_type": "code",
      "metadata": {
        "id": "OI9MjTs_vS2B"
      },
      "source": [
        "# Replace the verifier with the pin number obtained with your web browser in the previous step\n",
        "VERIFIER = '1212789'\n",
        "\n",
        "twitter = Twython(API_KEY, API_SECRET_KEY,\n",
        "                  authentication_tokens['oauth_token'],\n",
        "                  authentication_tokens['oauth_token_secret'])\n",
        "\n",
        "authorized_tokens = twitter.get_authorized_tokens(VERIFIER)"
      ],
      "execution_count": null,
      "outputs": []
    },
    {
      "cell_type": "markdown",
      "metadata": {
        "id": "tiDiGGx5X0w-"
      },
      "source": [
        "\n",
        "## 2.3 Use authorized tokens\n"
      ]
    },
    {
      "cell_type": "markdown",
      "metadata": {
        "id": "JWwkYGtMX3Fq"
      },
      "source": [
        "\n",
        "Now we have a permanent token pair that we can use to make authenticated calls to the Twitter API. We'll create a new Twython object using these authenticated keys and verify the credentials of the logged-in user."
      ]
    },
    {
      "cell_type": "code",
      "metadata": {
        "id": "m7n_kesWvS2C"
      },
      "source": [
        "twitter = Twython(API_KEY, API_SECRET_KEY,\n",
        "                  authorized_tokens['oauth_token'],\n",
        "                  authorized_tokens['oauth_token_secret'])\n",
        "\n",
        "twitter.verify_credentials()"
      ],
      "execution_count": null,
      "outputs": []
    },
    {
      "cell_type": "markdown",
      "metadata": {
        "id": "NlWjJc2KvS2C"
      },
      "source": [
        "If the previous cell ran without error and printed out a dict corresponding to a\n",
        "[Twitter User](https://developer.twitter.com/en/docs/tweets/data-dictionary/overview/user-object),\n",
        "then you're good. The authorized token pair is like a username/password and should be protected as such.\n"
      ]
    },
    {
      "cell_type": "markdown",
      "metadata": {
        "id": "C9TvfnjVZGqT"
      },
      "source": [
        "\n",
        "# 3.0 Twitter API basics\n"
      ]
    },
    {
      "cell_type": "markdown",
      "metadata": {
        "id": "vyDIq3XhZIw8"
      },
      "source": [
        "\n",
        "In this lesson, we'll be dealing with two different types of data, Users and Tweets.\n",
        "\n"
      ]
    },
    {
      "cell_type": "markdown",
      "metadata": {
        "id": "Kf2kIJxiZX9k"
      },
      "source": [
        "\n",
        "## 3.1 User objects\n"
      ]
    },
    {
      "cell_type": "markdown",
      "metadata": {
        "id": "hjWcQh4Kof9i"
      },
      "source": [
        "\n",
        "We've already seen one\n",
        "[User Object](https://developer.twitter.com/en/docs/tweets/data-dictionary/overview/user-object),\n",
        "the one corresponding to the logged-in user, via the call to  `verify_credentials()` above. We can also fetch data for an arbitrary user:"
      ]
    },
    {
      "cell_type": "code",
      "metadata": {
        "scrolled": true,
        "id": "eORSfYDYvS2C"
      },
      "source": [
        "# fetch data from UFRN's user\n",
        "user = twitter.show_user(screen_name='ufrnbr')\n",
        "user"
      ],
      "execution_count": null,
      "outputs": []
    },
    {
      "cell_type": "markdown",
      "metadata": {
        "id": "6bZGsUqAvS2D"
      },
      "source": [
        "This dictionary of user data contains several items of note. First, the screen name of the user, while obvious in this case, is very useful later:"
      ]
    },
    {
      "cell_type": "code",
      "metadata": {
        "id": "I-rDar0gvS2D"
      },
      "source": [
        "user['screen_name']"
      ],
      "execution_count": null,
      "outputs": []
    },
    {
      "cell_type": "markdown",
      "metadata": {
        "id": "VdiJ1tgFvS2D"
      },
      "source": [
        "The user data also contains information such as the number of followers, friends (other users followerd by this user), and tweets (called `'statuses'` in the API):"
      ]
    },
    {
      "cell_type": "code",
      "metadata": {
        "id": "OxN-pWzqvS2D"
      },
      "source": [
        "print(\"\"\"\n",
        "Twitter user @{screen_name}\n",
        "has {followers_count} followers,\n",
        "follows {friends_count} users,\n",
        "and has tweeted {statuses_count} times.\n",
        "\"\"\".format(**user))"
      ],
      "execution_count": null,
      "outputs": []
    },
    {
      "cell_type": "markdown",
      "metadata": {
        "id": "j9MqfvGta3vB"
      },
      "source": [
        "### 3.1.1 Playing with followeres with Twython"
      ]
    },
    {
      "cell_type": "markdown",
      "metadata": {
        "id": "wV058wO6a-IJ"
      },
      "source": [
        "It doesn’t need to be said that **Followers** are, and should be, the driving force behind your social success on Twitter. You need to make your **Followers** feel special for Following you. And you need to get as much information about them as possible, so you can analyse your follower demographics for further analysis and targeting. So you can find out exactly how you can make them feel even more special! And feel that following you is worthwhile….\n",
        "\n",
        "But before you can do any of that, <font color=\"red\"> you first need to get some idea of who your followers are</font>. So let’s start on the basics!\n",
        "\n",
        "- GET followers/list [documentation](https://developer.twitter.com/en/docs/twitter-api/v1/accounts-and-users/follow-search-get-users/api-reference/get-followers-list)."
      ]
    },
    {
      "cell_type": "code",
      "metadata": {
        "id": "beVln6pwglzQ"
      },
      "source": [
        "# there are some rate limitations in order to use the Twitter API\n",
        "# you can see the current limits calling get_applicaiton_rate_limit_status()\n",
        "twitter.get_application_rate_limit_status()['resources']"
      ],
      "execution_count": null,
      "outputs": []
    },
    {
      "cell_type": "code",
      "metadata": {
        "id": "S6imgaLhikcR"
      },
      "source": [
        "# current limits to followers/list endpoint\n",
        "twitter.get_application_rate_limit_status()['resources']['followers']"
      ],
      "execution_count": null,
      "outputs": []
    },
    {
      "cell_type": "code",
      "metadata": {
        "id": "dl-eAKkXiyNp"
      },
      "source": [
        "# During the writing of this notebook UFRN twitter user has\n",
        "# 15507 followers. So, at maximum is possible to retrieve 200 x 15 followers in just a call.\n",
        "# Thus, considering only 15 calls are allowed during a window of 15 min\n",
        "# it will be necessary at least 6 calls to collect all UFRN followers\n",
        "# 6 calls x 15min = 90min!!!!\n",
        "15507/(200 * 15)"
      ],
      "execution_count": null,
      "outputs": []
    },
    {
      "cell_type": "code",
      "metadata": {
        "id": "WYBR0j6ocZBL"
      },
      "source": [
        "import datetime\n",
        "import pandas as pd\n",
        "\n",
        "# We need to create empty lists for each of those user characteristics\n",
        "names = []\n",
        "usernames = []\n",
        "ids = []\n",
        "locations = []\n",
        "follower_count = []\n",
        "\n",
        "# Getting today's date\n",
        "datestamp = datetime.datetime.now().strftime(\"%Y-%m-%d\")\n",
        "\n",
        "# Asking for the username to get their followers\n",
        "username = 'ufrnbr'\n",
        "\n",
        "# This is to go through paginated results\n",
        "next_cursor = -1"
      ],
      "execution_count": null,
      "outputs": []
    },
    {
      "cell_type": "code",
      "metadata": {
        "id": "ZDtQG_PshNxO"
      },
      "source": [
        "# Let's try 10 calls (limit is 15), 200 x 10 = 2000 followers\n",
        "for i in range(10):\n",
        "  # Getting the user's followers (should all be 1 line)\n",
        "  # Note that are rate limited in API, see the documentation above.\n",
        "  get_followers = twitter.get_followers_list(screen_name=username,\n",
        "                                             count=200,\n",
        "                                             cursor=next_cursor)\n",
        "  # For each user returned from our get_followers\n",
        "  for follower in get_followers[\"users\"]:\n",
        "      names.append(follower[\"name\"])\n",
        "      usernames.append(follower[\"screen_name\"])\n",
        "      ids.append(follower[\"id\"])\n",
        "      locations.append(follower[\"location\"])\n",
        "      follower_count.append(follower[\"followers_count\"])\n",
        "  # next cursor\n",
        "  next_cursor = get_followers[\"next_cursor\"]"
      ],
      "execution_count": null,
      "outputs": []
    },
    {
      "cell_type": "code",
      "metadata": {
        "id": "d2246_0TLRUY"
      },
      "source": [
        "# for the sake of understanding check again\n",
        "# current limits to followers/list endpoint\n",
        "twitter.get_application_rate_limit_status()['resources']['followers']"
      ],
      "execution_count": null,
      "outputs": []
    },
    {
      "cell_type": "code",
      "metadata": {
        "id": "sBS3O5KZycOv"
      },
      "source": [
        "# create a dataframe using ufrn's followers\n",
        "df = pd.DataFrame.from_dict({\"display_name\": names,\n",
        "                             \"username\": usernames,\n",
        "                             \"user_id\": ids,\n",
        "                             \"location\": locations,\n",
        "                             \"followers_count\": follower_count})\n",
        "\n",
        "# check the dataframe\n",
        "df.head()"
      ],
      "execution_count": null,
      "outputs": []
    },
    {
      "cell_type": "code",
      "metadata": {
        "id": "fh3deLHGy-IS"
      },
      "source": [
        "# save to a csv file\n",
        "df.to_csv(username+\"-\"+datestamp+\".csv\")"
      ],
      "execution_count": null,
      "outputs": []
    },
    {
      "cell_type": "markdown",
      "metadata": {
        "id": "bfRbfgUVvS2D"
      },
      "source": [
        "## 3.2 Tweet Objects\n"
      ]
    },
    {
      "cell_type": "markdown",
      "metadata": {
        "id": "khN6XUkwoiml"
      },
      "source": [
        "\n",
        "The second type of data of which we will make use is the\n",
        "[Tweet Object](https://developer.twitter.com/en/docs/tweets/data-dictionary/overview/tweet-object).\n",
        "A user object actually contains the user's most recent tweet:"
      ]
    },
    {
      "cell_type": "code",
      "metadata": {
        "id": "rmYvPt914glt"
      },
      "source": [
        "# fetch data from UFRN's user\n",
        "user = twitter.show_user(screen_name='ufrnbr')"
      ],
      "execution_count": null,
      "outputs": []
    },
    {
      "cell_type": "code",
      "metadata": {
        "scrolled": true,
        "id": "6HatM3R8vS2E"
      },
      "source": [
        "most_recent_tweet = user['status']\n",
        "most_recent_tweet"
      ],
      "execution_count": null,
      "outputs": []
    },
    {
      "cell_type": "markdown",
      "metadata": {
        "id": "DXcEEgoZvS2E"
      },
      "source": [
        "Tweet objects contain several interesting data and metadata, but the most basic are the `'text'` and `'entities'`. The `'text'` is what you expect it to be: the text of the tweet:"
      ]
    },
    {
      "cell_type": "code",
      "metadata": {
        "id": "3_CG9VcCvS2E"
      },
      "source": [
        "most_recent_tweet['text']"
      ],
      "execution_count": null,
      "outputs": []
    },
    {
      "cell_type": "markdown",
      "metadata": {
        "id": "2Be3KPbtvS2E"
      },
      "source": [
        "The `'entities'` field contains several tokens of interest already extracted from the tweet such as hashtags, URLs, images, and mentions of other users:"
      ]
    },
    {
      "cell_type": "code",
      "metadata": {
        "id": "kRJWoV8EvS2E"
      },
      "source": [
        "most_recent_tweet['entities']"
      ],
      "execution_count": null,
      "outputs": []
    },
    {
      "cell_type": "markdown",
      "metadata": {
        "id": "pH8Hyx7CvS2E"
      },
      "source": [
        "In particular, we'll make use of the `'user_mentions'` later:"
      ]
    },
    {
      "cell_type": "code",
      "metadata": {
        "id": "FfMBRYlhvS2E"
      },
      "source": [
        "most_recent_tweet['entities']['user_mentions']"
      ],
      "execution_count": null,
      "outputs": []
    },
    {
      "cell_type": "markdown",
      "metadata": {
        "id": "ZN7tcAY5vS2E"
      },
      "source": [
        "# 4.0 Using Twitter's search API to get tweets of interest\n"
      ]
    },
    {
      "cell_type": "markdown",
      "metadata": {
        "id": "P79J8-2Bonlm"
      },
      "source": [
        "\n",
        "Twitter's\n",
        "[Search API](https://developer.twitter.com/en/docs/tweets/search/api-reference/get-search-tweets.html)\n",
        "allows you to fetch recent tweets according to a query of keywords, URLs, hashtags, user mentions, etc.\n"
      ]
    },
    {
      "cell_type": "markdown",
      "metadata": {
        "id": "DO33luYRpcIb"
      },
      "source": [
        "\n",
        "## 4.1 Get tweets matching a hashtag\n",
        "\n",
        "We'll make use of the ability to search by hashtags:"
      ]
    },
    {
      "cell_type": "code",
      "metadata": {
        "id": "UFbXMyc5vS2F"
      },
      "source": [
        "search_response = twitter.search(q='#bbb21', count=100)"
      ],
      "execution_count": null,
      "outputs": []
    },
    {
      "cell_type": "code",
      "metadata": {
        "id": "x_fSMefqlv1A"
      },
      "source": [
        "search_response"
      ],
      "execution_count": null,
      "outputs": []
    },
    {
      "cell_type": "code",
      "metadata": {
        "id": "9_H0Eq5DRxUe"
      },
      "source": [
        "# current limits to followers/list endpoint\n",
        "twitter.get_application_rate_limit_status()['resources'][\"search\"]"
      ],
      "execution_count": null,
      "outputs": []
    },
    {
      "cell_type": "markdown",
      "metadata": {
        "id": "OLcUMxQyvS2F"
      },
      "source": [
        "While the search API response is a dictionary, the `'statuses'` field contains the list of\n",
        "[Tweet Objects](https://developer.twitter.com/en/docs/tweets/data-dictionary/overview/tweet-object)\n",
        "we're after."
      ]
    },
    {
      "cell_type": "code",
      "metadata": {
        "scrolled": true,
        "id": "wBiaszF8vS2F"
      },
      "source": [
        "search_tweets = search_response['statuses']\n",
        "tweet = search_tweets[0]\n",
        "tweet"
      ],
      "execution_count": null,
      "outputs": []
    },
    {
      "cell_type": "markdown",
      "metadata": {
        "id": "ZGPJSyYtvS2F"
      },
      "source": [
        "Note that each tweet obtained from this API contains a `'user'` field -- this is a User Object for the user who created the tweet."
      ]
    },
    {
      "cell_type": "code",
      "metadata": {
        "scrolled": true,
        "id": "3yNTEB-1vS2F"
      },
      "source": [
        "tweet['user']"
      ],
      "execution_count": null,
      "outputs": []
    },
    {
      "cell_type": "markdown",
      "metadata": {
        "id": "sf4b1Jh_vS2F"
      },
      "source": [
        "## 4.2 Using a cursor to get more than 100 tweets from a search\n",
        "\n",
        "We can only fetch up to 100 tweets at a time from a single search API call:"
      ]
    },
    {
      "cell_type": "code",
      "metadata": {
        "id": "-DB3_NHuvS2F"
      },
      "source": [
        "# even with count=1000, we still get at most 100 tweets\n",
        "search_response = twitter.search(q='#bbb21', count=1000)\n",
        "len(search_response['statuses'])"
      ],
      "execution_count": null,
      "outputs": []
    },
    {
      "cell_type": "markdown",
      "metadata": {
        "id": "bjZU7UXrvS2F"
      },
      "source": [
        "In order to get more tweets from a search, we can make use of a cursor:"
      ]
    },
    {
      "cell_type": "code",
      "metadata": {
        "id": "jdCTjWlwvS2F"
      },
      "source": [
        "import itertools\n",
        "\n",
        "NUM_TWEETS_TO_FETCH = 10000\n",
        "\n",
        "cursor = twitter.cursor(twitter.search, q='#bbb21', count=100, result_type='mixed')\n",
        "search_tweets = list(itertools.islice(cursor, NUM_TWEETS_TO_FETCH))\n",
        "len(search_tweets)"
      ],
      "execution_count": null,
      "outputs": []
    },
    {
      "cell_type": "code",
      "metadata": {
        "id": "8lY44Co0W5yA"
      },
      "source": [
        "import pandas as pd\n",
        "\n",
        "# Search tweets\n",
        "dict_ = {'user': [], 'date': [], 'text': [], 'favorite_count': []}\n",
        "for tweet in search_tweets:\n",
        "    dict_['user'].append(tweet['user']['screen_name'])\n",
        "    dict_['date'].append(tweet['created_at'])\n",
        "    dict_['text'].append(tweet['text'])\n",
        "    dict_['favorite_count'].append(tweet['favorite_count'])\n",
        "# Structure data in a pandas DataFrame for easier manipulation\n",
        "df = pd.DataFrame(dict_)"
      ],
      "execution_count": null,
      "outputs": []
    },
    {
      "cell_type": "code",
      "metadata": {
        "id": "dRQRh53pXbfr"
      },
      "source": [
        "df.head()"
      ],
      "execution_count": null,
      "outputs": []
    },
    {
      "cell_type": "code",
      "metadata": {
        "id": "CXeAhZcRnRNU"
      },
      "source": [
        "df.shape"
      ],
      "execution_count": null,
      "outputs": []
    },
    {
      "cell_type": "markdown",
      "metadata": {
        "id": "5XogrzHnvS2F"
      },
      "source": [
        "Note the following:\n",
        "* The cursor object is a\n",
        "[generator](https://docs.python.org/3/tutorial/classes.html#generators),\n",
        "a type of iterator that \"lazily\" generates items. We use Python's `itertools.islice` in order to get up to a set number of items from this generator. The second argument passed to `islice` is the max number of tweets we want to fetch from the user.\n",
        "* Even though we want to get more than 100 tweets here, we provide the `count=100` argument. This tells the cursor to fetch the maximum number of tweets with each API call.\n",
        "* As documented in [Twitter's Search API documentation](https://developer.twitter.com/en/docs/tweets/search/api-reference/get-search-tweets.html), specifying `result_type='mixed'` provides a mix of recent and popular tweets matching the query. If one desires a more \"random\" sample, you can specify `result_type='recent'`, but Twitter may provide fewer tweets than desired."
      ]
    },
    {
      "cell_type": "markdown",
      "metadata": {
        "id": "tvv-4mc9vS2F"
      },
      "source": [
        "## 4.3 API method rate limits\n",
        "\n",
        "Each API method has a *rate limit* imposed by Twitter, a limit on the number of function calls per 15-minute window. We can check on the rate limit status for this endpoint:"
      ]
    },
    {
      "cell_type": "code",
      "metadata": {
        "id": "xBFF-OlBvS2F"
      },
      "source": [
        "twitter.get_application_rate_limit_status()['resources']['search']"
      ],
      "execution_count": null,
      "outputs": []
    },
    {
      "cell_type": "markdown",
      "metadata": {
        "id": "KrO9mRbsvS2G"
      },
      "source": [
        "These limits apply to the number of API *calls*, as opposed to the number of *items* fetched. This is why, when creating a cursor, we specify `count=` to fetch the maximum number of items per API call."
      ]
    },
    {
      "cell_type": "markdown",
      "metadata": {
        "id": "0V_Hd315vS2G"
      },
      "source": [
        "# 5.0 Creating social network graphs\n"
      ]
    },
    {
      "cell_type": "markdown",
      "metadata": {
        "id": "SqT4fY7QrG65"
      },
      "source": [
        "\n",
        "In the remaining sections of this lesson, we're going to use NetworkX to create social networks from Twitter data. The examples are going to have users as nodes, so at a very basic level, we're going to do something like the following:"
      ]
    },
    {
      "cell_type": "code",
      "metadata": {
        "id": "4mpkU6qGvS2G"
      },
      "source": [
        "import networkx as nx\n",
        "\n",
        "D = nx.DiGraph()\n",
        "\n",
        "university = twitter.show_user(screen_name='ufrnbr')\n",
        "author = twitter.show_user(screen_name='ivanovitchm')\n",
        "\n",
        "D.add_edge(university['screen_name'], author['screen_name'], weight=1)"
      ],
      "execution_count": null,
      "outputs": []
    },
    {
      "cell_type": "code",
      "metadata": {
        "id": "0uAtiKRavS2G"
      },
      "source": [
        "list(D.edges(data=True))"
      ],
      "execution_count": null,
      "outputs": []
    },
    {
      "cell_type": "markdown",
      "metadata": {
        "id": "FUnui3r8vS2G"
      },
      "source": [
        "Note that NetworkX will let us use the full user dictionaries as the node names, e.g. `D.add_edge(university, author)`. However, it is inconvenient to work with such a graph. More preferable is to use `screen_name` or `id` as the node names, and then use\n",
        "[node attributes](https://networkx.github.io/documentation/stable/tutorial.html#node-attributes)\n",
        "for the user profile data if desired."
      ]
    },
    {
      "cell_type": "markdown",
      "metadata": {
        "id": "-Gwmtja_vS2G"
      },
      "source": [
        "# 6.0 Twitter retweet network\n"
      ]
    },
    {
      "cell_type": "markdown",
      "metadata": {
        "id": "usz_Jzv5HsGn"
      },
      "source": [
        "\n",
        "One fundamental interaction in the Twitter ecosystem is the \"retweet\" -- rebroadcasting another user's tweet to your followers. A tweet object returned by the API is a retweet if it includes a `'retweeted_status'`. We're going to fetch tweets matching a hashtag and create a retweet network of the conversation.\n"
      ]
    },
    {
      "cell_type": "markdown",
      "metadata": {
        "id": "Rdvg2XvnHyGB"
      },
      "source": [
        "\n",
        "## 6.1 Get some tweets"
      ]
    },
    {
      "cell_type": "code",
      "metadata": {
        "id": "_G39k9SkvS2G"
      },
      "source": [
        "import itertools\n",
        "import time\n",
        "\n",
        "NUM_TWEETS_TO_FETCH = 10000\n",
        "\n",
        "cursor = twitter.cursor(twitter.search, q='bbb21', count=100, result_type='mixed')\n",
        "search_tweets = []\n",
        "\n",
        "for i in range(2):\n",
        "  search_tweets.extend(list(itertools.islice(cursor, NUM_TWEETS_TO_FETCH)))\n",
        "  time.sleep(900)\n",
        "  \n",
        "len(search_tweets)"
      ],
      "execution_count": null,
      "outputs": []
    },
    {
      "cell_type": "code",
      "metadata": {
        "id": "ZII5X9sV9DSh"
      },
      "source": [
        "search_tweets[0]"
      ],
      "execution_count": null,
      "outputs": []
    },
    {
      "cell_type": "markdown",
      "metadata": {
        "id": "JurFff8JvS2G"
      },
      "source": [
        "## 6.2 Filter retweets\n"
      ]
    },
    {
      "cell_type": "markdown",
      "metadata": {
        "id": "2xxT1kW6ohNf"
      },
      "source": [
        "\n",
        "Of the tweets we fetched, a subset will be retweets. Let's create a new list of just the retweets:"
      ]
    },
    {
      "cell_type": "code",
      "metadata": {
        "id": "vp_V0AJ2vS2G"
      },
      "source": [
        "retweets = []\n",
        "for tweet in search_tweets:\n",
        "    if 'retweeted_status' in tweet:\n",
        "        retweets.append(tweet)\n",
        "len(retweets)"
      ],
      "execution_count": null,
      "outputs": []
    },
    {
      "cell_type": "code",
      "metadata": {
        "id": "0PyePpsEo5fK"
      },
      "source": [
        "# a retweet\n",
        "retweets[0]"
      ],
      "execution_count": null,
      "outputs": []
    },
    {
      "cell_type": "markdown",
      "metadata": {
        "id": "PXB4ZTXpvS2G"
      },
      "source": [
        "## 6.3 Create DiGraph\n"
      ]
    },
    {
      "cell_type": "markdown",
      "metadata": {
        "id": "Tp4UUg5ookVF"
      },
      "source": [
        "\n",
        "Each tweet in this list of retweets represents an edge in our network. <font color='red'>We're going to draw these edges in the direction of information flow</font>: from the retweeted user to the retweeter, the user doing the retweeting. Since a user can retweet another user more than once, we want this graph to be weighted, with the number of retweets as the weight."
      ]
    },
    {
      "cell_type": "code",
      "metadata": {
        "id": "GMNv8RPmvS2G"
      },
      "source": [
        "import networkx as nx\n",
        "\n",
        "D = nx.DiGraph()\n",
        "\n",
        "for retweet in retweets:\n",
        "    retweeted_status = retweet['retweeted_status']\n",
        "    retweeted_sn = retweeted_status['user']['screen_name']\n",
        "    retweeter_sn = retweet['user']['screen_name']\n",
        "    \n",
        "    # Edge direction: retweeted_sn -> retweeter_sn\n",
        "    if D.has_edge(retweeted_sn, retweeter_sn):\n",
        "        D.edges[retweeted_sn, retweeter_sn]['weight'] += 1\n",
        "    else:\n",
        "        D.add_edge(retweeted_sn, retweeter_sn, weight=1)"
      ],
      "execution_count": null,
      "outputs": []
    },
    {
      "cell_type": "markdown",
      "metadata": {
        "id": "acyByTp3vS2G"
      },
      "source": [
        "The edge addition logic here is to increase the edge weight by 1 if the edge exists, or else create the edge with weight 1 if it does not exist.\n",
        "\n",
        "When writing code such as this that refers multiple times to the same directed edge, make sure to be consistent with the edge direction."
      ]
    },
    {
      "cell_type": "markdown",
      "metadata": {
        "id": "LwU9t4eWvS2G"
      },
      "source": [
        "## 6.4 Analyze graph\n"
      ]
    },
    {
      "cell_type": "markdown",
      "metadata": {
        "id": "uNYZz_oWqEAt"
      },
      "source": [
        "\n",
        "Now that we have this graph, let's ask some questions about it.\n"
      ]
    },
    {
      "cell_type": "markdown",
      "metadata": {
        "id": "m0zcjTTtqKfV"
      },
      "source": [
        "\n",
        "### 6.4.1 Most retweeted user\n"
      ]
    },
    {
      "cell_type": "markdown",
      "metadata": {
        "id": "Ln5awzOeqLT_"
      },
      "source": [
        "\n",
        "Since the edges are in the direction of information flow, out-degree gives us the number of other users retweeting a given user. We can get the user with highest out-degree using the built-in `max` function:"
      ]
    },
    {
      "cell_type": "code",
      "metadata": {
        "id": "ZinSHs6qvS2G"
      },
      "source": [
        "max(D.nodes, key=D.out_degree)"
      ],
      "execution_count": null,
      "outputs": []
    },
    {
      "cell_type": "markdown",
      "metadata": {
        "id": "ihJcKVtuvS2G"
      },
      "source": [
        "but we can get more context and information from the \"top N\" users:"
      ]
    },
    {
      "cell_type": "code",
      "metadata": {
        "id": "6sSh64DbvS2G"
      },
      "source": [
        "from operator import itemgetter\n",
        "\n",
        "sorted(D.out_degree(), key=itemgetter(1), reverse=True)[:5]"
      ],
      "execution_count": null,
      "outputs": []
    },
    {
      "cell_type": "code",
      "metadata": {
        "id": "DS93volW-lDa"
      },
      "source": [
        "D.out_degree()"
      ],
      "execution_count": null,
      "outputs": []
    },
    {
      "cell_type": "markdown",
      "metadata": {
        "id": "DKjZUB2RvS2G"
      },
      "source": [
        "In this piece of code, we take advantage of the fact that `D.out_degree()` returns a sequence of `(name, degree)` 2-tuples; specifying `key=itemgetter(1)` tells the `sorted` function to sort these 2-tuples by their value at index 1. Giving `reverse=True` tells the `sorted` function that we want this in descending order, and the `[:5]` at the end slices the first 5 items from the resulting list.\n",
        "\n",
        "However, this is a weighted graph! By default, `out_degree()` ignores the edge weights. We can get out-strength by telling the `out_degree()` function to take into account the edge weight:"
      ]
    },
    {
      "cell_type": "code",
      "metadata": {
        "id": "tFfxTxMBvS2G"
      },
      "source": [
        "sorted(D.out_degree(weight='weight'), key=itemgetter(1), reverse=True)[:5]"
      ],
      "execution_count": null,
      "outputs": []
    },
    {
      "cell_type": "markdown",
      "metadata": {
        "id": "L6r1o4tFvS2H"
      },
      "source": [
        "In some cases these two results will be the same, namely if none of these users has been retweeted multiple times by the same user. Depending on your use case, you may or may not wish to take the weights into account.\n"
      ]
    },
    {
      "cell_type": "markdown",
      "metadata": {
        "id": "I5txahzgqsF1"
      },
      "source": [
        "\n",
        "### 6.4.2 Anomaly detection\n"
      ]
    },
    {
      "cell_type": "markdown",
      "metadata": {
        "id": "qY7B2EqFqt73"
      },
      "source": [
        "\n",
        "One type of social media manipulation involves accounts that create very little original content, instead \"spamming\" retweets of any and all content in a particular conversation. Can we detect any users doing significantly more retweeting than others? Let's look at the top N retweeters:"
      ]
    },
    {
      "cell_type": "code",
      "metadata": {
        "scrolled": true,
        "id": "2YbKCw3PvS2H"
      },
      "source": [
        "sorted(D.in_degree(weight='weight'), key=itemgetter(1), reverse=True)[:5]"
      ],
      "execution_count": null,
      "outputs": []
    },
    {
      "cell_type": "markdown",
      "metadata": {
        "id": "gLdgve_dvS2H"
      },
      "source": [
        "### 6.4.3 Connectivity\n"
      ]
    },
    {
      "cell_type": "markdown",
      "metadata": {
        "id": "C4JxI_UQq_in"
      },
      "source": [
        "\n",
        "We can ask if the tweets obtained by the search represent one large conversation or many small conversations; broadly speaking, each weakly-connected component represents a conversation."
      ]
    },
    {
      "cell_type": "code",
      "metadata": {
        "id": "ovAtnR0mvS2H"
      },
      "source": [
        "nx.is_weakly_connected(D)"
      ],
      "execution_count": null,
      "outputs": []
    },
    {
      "cell_type": "code",
      "metadata": {
        "id": "6RzDNKeuvS2H"
      },
      "source": [
        "nx.number_weakly_connected_components(D)"
      ],
      "execution_count": null,
      "outputs": []
    },
    {
      "cell_type": "markdown",
      "metadata": {
        "id": "if3Q37olvS2H"
      },
      "source": [
        "### 6.4.4 Drawing\n"
      ]
    },
    {
      "cell_type": "markdown",
      "metadata": {
        "id": "3KK4uatvrKCu"
      },
      "source": [
        "\n",
        "We can try to draw this graph with the nodes sized by their out-strength:"
      ]
    },
    {
      "cell_type": "code",
      "metadata": {
        "id": "AzVkPs8kvS2H"
      },
      "source": [
        "node_sizes = [D.out_degree(n, weight='weight') * 50 for n in D.nodes]\n",
        "\n",
        "%matplotlib inline\n",
        "nx.draw(D, node_size=node_sizes)"
      ],
      "execution_count": null,
      "outputs": []
    },
    {
      "cell_type": "markdown",
      "metadata": {
        "id": "CCunfNkovS2H"
      },
      "source": [
        "Note that in this simplistic drawing, nodes with zero out-strength are not drawn on the diagram because their size is 0. This suits us fine; only the users who have been retweeted are drawn here."
      ]
    },
    {
      "cell_type": "markdown",
      "metadata": {
        "id": "MA5DPlxEvS2H"
      },
      "source": [
        "# 7.0 Exploratory Data Analysis\n",
        "\n"
      ]
    },
    {
      "cell_type": "code",
      "metadata": {
        "id": "HeFTD66r-VuA"
      },
      "source": [
        "import pandas as pd\n",
        "\n",
        "data = {'user': [], 'text': [], 'retweet_count': [], 'location': []}\n",
        "for retweets in search_tweets:\n",
        "  data['user'].append(retweets['user']['screen_name'])\n",
        "  data['date'].append(retweets['created_at'])\n",
        "  data['text'].append(retweets['text'])\n",
        "  data['retweet_count'].append(retweets['retweet_count'])\n",
        "  data['location'].append(retweets['user']['location'])  \n",
        "\n",
        "df = pd.DataFrame(data)\n",
        "df.head()"
      ],
      "execution_count": null,
      "outputs": []
    },
    {
      "cell_type": "code",
      "metadata": {
        "id": "dEtLG5uUBNXP"
      },
      "source": [
        "df.shape"
      ],
      "execution_count": null,
      "outputs": []
    },
    {
      "cell_type": "code",
      "metadata": {
        "id": "yI3Lqeg3BPg0"
      },
      "source": [
        "df.to_csv(\"bbb21.csv\")"
      ],
      "execution_count": null,
      "outputs": []
    },
    {
      "cell_type": "code",
      "metadata": {
        "id": "tTrSSQ_FBjct"
      },
      "source": [
        "df.describe()"
      ],
      "execution_count": null,
      "outputs": []
    },
    {
      "cell_type": "markdown",
      "metadata": {
        "id": "y7-50PYJBvDX"
      },
      "source": [
        "Usuário mais retweetado "
      ]
    },
    {
      "cell_type": "code",
      "metadata": {
        "id": "m-c8sxptByrd"
      },
      "source": [
        "user_most_retweeted = df[df['user']=='Alfinetei']\n",
        "user_most_retweeted.shape"
      ],
      "execution_count": null,
      "outputs": []
    },
    {
      "cell_type": "code",
      "metadata": {
        "id": "1eBe3VUUDTTK"
      },
      "source": [
        "user_most_retweeted"
      ],
      "execution_count": null,
      "outputs": []
    },
    {
      "cell_type": "code",
      "metadata": {
        "id": "KL1bf5H6DWVX"
      },
      "source": [
        "user_most_retweeted['retweet_count'].sum()"
      ],
      "execution_count": null,
      "outputs": []
    }
  ]
}